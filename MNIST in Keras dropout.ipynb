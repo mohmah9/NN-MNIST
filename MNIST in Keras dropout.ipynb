{
 "cells": [
  {
   "cell_type": "code",
   "execution_count": 0,
   "metadata": {
    "colab": {},
    "colab_type": "code",
    "id": "FHseLRJxvLYO"
   },
   "outputs": [],
   "source": [
    "%matplotlib inline"
   ]
  },
  {
   "cell_type": "markdown",
   "metadata": {
    "colab_type": "text",
    "id": "vLZw0YS8vLYY"
   },
   "source": [
    "## Importing needed modules\n"
   ]
  },
  {
   "cell_type": "code",
   "execution_count": 2,
   "metadata": {
    "colab": {
     "base_uri": "https://localhost:8080/",
     "height": 50
    },
    "colab_type": "code",
    "executionInfo": {
     "elapsed": 7466,
     "status": "ok",
     "timestamp": 1587059483353,
     "user": {
      "displayName": "Mohamad Mahdi Yadegar",
      "photoUrl": "https://lh3.googleusercontent.com/a-/AOh14GjSB-SOBZ3Cf7Vm6TFT8awQg0XuV1mnbSCowsIR=s64",
      "userId": "06691288538219578255"
     },
     "user_tz": -270
    },
    "id": "A_ORp8cbvLYY",
    "outputId": "1c1823c7-617a-452c-f92f-5dc67be26e7c"
   },
   "outputs": [
    {
     "name": "stdout",
     "output_type": "stream",
     "text": [
      "TensorFlow 1.x selected.\n"
     ]
    },
    {
     "name": "stderr",
     "output_type": "stream",
     "text": [
      "Using TensorFlow backend.\n"
     ]
    }
   ],
   "source": [
    "%tensorflow_version 1.x\n",
    "import numpy as np                   \n",
    "import matplotlib.pyplot as plt      \n",
    "import random                        \n",
    "\n",
    "from keras.datasets import mnist     \n",
    "from keras.models import Sequential  \n",
    "\n",
    "from keras.layers.core import Dense, Dropout, Activation \n",
    "from keras.utils import np_utils                         "
   ]
  },
  {
   "cell_type": "markdown",
   "metadata": {
    "colab_type": "text",
    "id": "KPo-NWCzvLYc"
   },
   "source": [
    "## Loading Training Data\n"
   ]
  },
  {
   "cell_type": "code",
   "execution_count": 3,
   "metadata": {
    "colab": {
     "base_uri": "https://localhost:8080/",
     "height": 118
    },
    "colab_type": "code",
    "executionInfo": {
     "elapsed": 4776,
     "status": "ok",
     "timestamp": 1587059489254,
     "user": {
      "displayName": "Mohamad Mahdi Yadegar",
      "photoUrl": "https://lh3.googleusercontent.com/a-/AOh14GjSB-SOBZ3Cf7Vm6TFT8awQg0XuV1mnbSCowsIR=s64",
      "userId": "06691288538219578255"
     },
     "user_tz": -270
    },
    "id": "W6_QRupuvLYc",
    "outputId": "dfc4f3be-a61d-47b4-c554-0fdb94c5b65e"
   },
   "outputs": [
    {
     "name": "stdout",
     "output_type": "stream",
     "text": [
      "Downloading data from https://s3.amazonaws.com/img-datasets/mnist.npz\n",
      "11493376/11490434 [==============================] - 3s 0us/step\n",
      "X_train shape (60000, 28, 28)\n",
      "y_train shape (60000,)\n",
      "X_test shape (10000, 28, 28)\n",
      "y_test shape (10000,)\n"
     ]
    }
   ],
   "source": [
    "(X_train, y_train), (X_test, y_test) = mnist.load_data()\n",
    "\n",
    "print(\"X_train shape\", X_train.shape)\n",
    "print(\"y_train shape\", y_train.shape)\n",
    "print(\"X_test shape\", X_test.shape)\n",
    "print(\"y_test shape\", y_test.shape)"
   ]
  },
  {
   "cell_type": "markdown",
   "metadata": {},
   "source": [
    "## Normalization\n"
   ]
  },
  {
   "cell_type": "code",
   "execution_count": 6,
   "metadata": {
    "colab": {
     "base_uri": "https://localhost:8080/",
     "height": 50
    },
    "colab_type": "code",
    "executionInfo": {
     "elapsed": 2287,
     "status": "ok",
     "timestamp": 1587059536784,
     "user": {
      "displayName": "Mohamad Mahdi Yadegar",
      "photoUrl": "https://lh3.googleusercontent.com/a-/AOh14GjSB-SOBZ3Cf7Vm6TFT8awQg0XuV1mnbSCowsIR=s64",
      "userId": "06691288538219578255"
     },
     "user_tz": -270
    },
    "id": "zVnWrIsFvLYu",
    "outputId": "306c355a-98d6-4f23-c9b1-a48ec2044d02"
   },
   "outputs": [
    {
     "name": "stdout",
     "output_type": "stream",
     "text": [
      "Training matrix shape (60000, 784)\n",
      "Testing matrix shape (10000, 784)\n"
     ]
    }
   ],
   "source": [
    "X_train = X_train.reshape(60000, 784) # reshape 60,000 28 x 28 matrices into 60,000 784-length vectors.\n",
    "X_test = X_test.reshape(10000, 784)   # reshape 10,000 28 x 28 matrices into 10,000 784-length vectors.\n",
    "\n",
    "X_train = X_train.astype('float32')   \n",
    "X_test = X_test.astype('float32')\n",
    "\n",
    "X_train /= 255                  \n",
    "X_test /= 255\n",
    "\n",
    "print(\"Training matrix shape\", X_train.shape)\n",
    "print(\"Testing matrix shape\", X_test.shape)"
   ]
  },
  {
   "cell_type": "markdown",
   "metadata": {
    "colab_type": "text",
    "id": "rGR1_aF7vLYx"
   },
   "source": [
    "## One-hot\n"
   ]
  },
  {
   "cell_type": "code",
   "execution_count": 0,
   "metadata": {
    "colab": {},
    "colab_type": "code",
    "id": "yudxXCHSvLYy"
   },
   "outputs": [],
   "source": [
    "nb_classes = 10 # number of unique digits\n",
    "\n",
    "Y_train = np_utils.to_categorical(y_train, nb_classes)\n",
    "Y_test = np_utils.to_categorical(y_test, nb_classes)"
   ]
  },
  {
   "cell_type": "markdown",
   "metadata": {},
   "source": [
    "## Initializing model"
   ]
  },
  {
   "cell_type": "code",
   "execution_count": 0,
   "metadata": {
    "colab": {},
    "colab_type": "code",
    "id": "r1iog78kvLY2"
   },
   "outputs": [],
   "source": [
    "model = Sequential()"
   ]
  },
  {
   "cell_type": "markdown",
   "metadata": {
    "colab_type": "text",
    "id": "EOvNo66PvLY7"
   },
   "source": [
    "## The first hidden layer"
   ]
  },
  {
   "cell_type": "code",
   "execution_count": 0,
   "metadata": {
    "colab": {},
    "colab_type": "code",
    "id": "q_Sh5DdxvLY_"
   },
   "outputs": [],
   "source": [
    "model.add(Dense(512, input_shape=(784,))) "
   ]
  },
  {
   "cell_type": "code",
   "execution_count": 0,
   "metadata": {
    "colab": {},
    "colab_type": "code",
    "id": "3bWCtJLqvLZD"
   },
   "outputs": [],
   "source": [
    "model.add(Activation('relu'))"
   ]
  },
  {
   "cell_type": "code",
   "execution_count": 0,
   "metadata": {
    "colab": {},
    "colab_type": "code",
    "id": "ve25Ad1bvLZG"
   },
   "outputs": [],
   "source": [
    "model.add(Dropout(0.25))"
   ]
  },
  {
   "cell_type": "markdown",
   "metadata": {
    "colab_type": "text",
    "id": "3TRBhu2AvLZI"
   },
   "source": [
    "## Adding the second hidden layer"
   ]
  },
  {
   "cell_type": "code",
   "execution_count": 0,
   "metadata": {
    "colab": {},
    "colab_type": "code",
    "id": "1XtNOukjvLZJ"
   },
   "outputs": [],
   "source": [
    "model.add(Dense(512))\n",
    "model.add(Activation('relu'))"
   ]
  },
  {
   "cell_type": "markdown",
   "metadata": {
    "colab_type": "text",
    "id": "hbfbEJguvLZL"
   },
   "source": [
    "## The Final Output Layer"
   ]
  },
  {
   "cell_type": "code",
   "execution_count": 0,
   "metadata": {
    "colab": {},
    "colab_type": "code",
    "id": "lt9krT-lvLZM"
   },
   "outputs": [],
   "source": [
    "model.add(Dense(10))"
   ]
  },
  {
   "cell_type": "code",
   "execution_count": 0,
   "metadata": {
    "colab": {},
    "colab_type": "code",
    "id": "Hmn2RiwWvLZO"
   },
   "outputs": [],
   "source": [
    "model.add(Activation('softmax'))"
   ]
  },
  {
   "cell_type": "code",
   "execution_count": 140,
   "metadata": {
    "colab": {
     "base_uri": "https://localhost:8080/",
     "height": 386
    },
    "colab_type": "code",
    "executionInfo": {
     "elapsed": 1447,
     "status": "ok",
     "timestamp": 1587063904331,
     "user": {
      "displayName": "Mohamad Mahdi Yadegar",
      "photoUrl": "https://lh3.googleusercontent.com/a-/AOh14GjSB-SOBZ3Cf7Vm6TFT8awQg0XuV1mnbSCowsIR=s64",
      "userId": "06691288538219578255"
     },
     "user_tz": -270
    },
    "id": "etyC0pWtvLZR",
    "outputId": "328421bf-9098-4393-a0d4-f98bd22ff211"
   },
   "outputs": [
    {
     "name": "stdout",
     "output_type": "stream",
     "text": [
      "Model: \"sequential_13\"\n",
      "_________________________________________________________________\n",
      "Layer (type)                 Output Shape              Param #   \n",
      "=================================================================\n",
      "dense_31 (Dense)             (None, 512)               401920    \n",
      "_________________________________________________________________\n",
      "activation_31 (Activation)   (None, 512)               0         \n",
      "_________________________________________________________________\n",
      "dropout_19 (Dropout)         (None, 512)               0         \n",
      "_________________________________________________________________\n",
      "dense_32 (Dense)             (None, 512)               262656    \n",
      "_________________________________________________________________\n",
      "activation_32 (Activation)   (None, 512)               0         \n",
      "_________________________________________________________________\n",
      "dense_33 (Dense)             (None, 10)                5130      \n",
      "_________________________________________________________________\n",
      "activation_33 (Activation)   (None, 10)                0         \n",
      "=================================================================\n",
      "Total params: 669,706\n",
      "Trainable params: 669,706\n",
      "Non-trainable params: 0\n",
      "_________________________________________________________________\n"
     ]
    }
   ],
   "source": [
    "model.summary()"
   ]
  },
  {
   "cell_type": "markdown",
   "metadata": {},
   "source": [
    "## Compiling"
   ]
  },
  {
   "cell_type": "code",
   "execution_count": 0,
   "metadata": {
    "colab": {},
    "colab_type": "code",
    "id": "vNMqC2AHvLZW"
   },
   "outputs": [],
   "source": [
    "# Let's use the Adam optimizer for learning\n",
    "model.compile(loss='categorical_crossentropy', optimizer='sgd', metrics=['accuracy'])"
   ]
  },
  {
   "cell_type": "markdown",
   "metadata": {
    "colab_type": "text",
    "id": "j94FZUrRvLZY"
   },
   "source": [
    "## Training the model\n"
   ]
  },
  {
   "cell_type": "code",
   "execution_count": 142,
   "metadata": {
    "colab": {
     "base_uri": "https://localhost:8080/",
     "height": 1000
    },
    "colab_type": "code",
    "executionInfo": {
     "elapsed": 306538,
     "status": "ok",
     "timestamp": 1587064251182,
     "user": {
      "displayName": "Mohamad Mahdi Yadegar",
      "photoUrl": "https://lh3.googleusercontent.com/a-/AOh14GjSB-SOBZ3Cf7Vm6TFT8awQg0XuV1mnbSCowsIR=s64",
      "userId": "06691288538219578255"
     },
     "user_tz": -270
    },
    "id": "D0BT9AKSvLZZ",
    "outputId": "c45321c6-011d-443f-9b26-eca19b90d7fe"
   },
   "outputs": [
    {
     "name": "stdout",
     "output_type": "stream",
     "text": [
      "Epoch 1/100\n",
      "60000/60000 [==============================] - 3s 55us/step - loss: 0.7687 - accuracy: 0.7997\n",
      "Epoch 2/100\n",
      "60000/60000 [==============================] - 3s 50us/step - loss: 0.3579 - accuracy: 0.8965\n",
      "Epoch 3/100\n",
      "60000/60000 [==============================] - 3s 50us/step - loss: 0.2959 - accuracy: 0.9149\n",
      "Epoch 4/100\n",
      "60000/60000 [==============================] - 3s 49us/step - loss: 0.2557 - accuracy: 0.9273\n",
      "Epoch 5/100\n",
      "60000/60000 [==============================] - 3s 49us/step - loss: 0.2274 - accuracy: 0.9349\n",
      "Epoch 6/100\n",
      "60000/60000 [==============================] - 3s 53us/step - loss: 0.2034 - accuracy: 0.9419\n",
      "Epoch 7/100\n",
      "60000/60000 [==============================] - 3s 51us/step - loss: 0.1871 - accuracy: 0.9465\n",
      "Epoch 8/100\n",
      "60000/60000 [==============================] - 3s 53us/step - loss: 0.1711 - accuracy: 0.9513\n",
      "Epoch 9/100\n",
      "60000/60000 [==============================] - 3s 50us/step - loss: 0.1578 - accuracy: 0.9550\n",
      "Epoch 10/100\n",
      "60000/60000 [==============================] - 3s 49us/step - loss: 0.1452 - accuracy: 0.9576\n",
      "Epoch 11/100\n",
      "60000/60000 [==============================] - 3s 51us/step - loss: 0.1374 - accuracy: 0.9610\n",
      "Epoch 12/100\n",
      "60000/60000 [==============================] - 3s 50us/step - loss: 0.1299 - accuracy: 0.9624\n",
      "Epoch 13/100\n",
      "60000/60000 [==============================] - 3s 49us/step - loss: 0.1211 - accuracy: 0.9643\n",
      "Epoch 14/100\n",
      "60000/60000 [==============================] - 3s 50us/step - loss: 0.1160 - accuracy: 0.9659\n",
      "Epoch 15/100\n",
      "60000/60000 [==============================] - 3s 53us/step - loss: 0.1096 - accuracy: 0.9688\n",
      "Epoch 16/100\n",
      "60000/60000 [==============================] - 3s 52us/step - loss: 0.1047 - accuracy: 0.9697\n",
      "Epoch 17/100\n",
      "60000/60000 [==============================] - 3s 51us/step - loss: 0.0995 - accuracy: 0.9710\n",
      "Epoch 18/100\n",
      "60000/60000 [==============================] - 3s 53us/step - loss: 0.0956 - accuracy: 0.9718\n",
      "Epoch 19/100\n",
      "60000/60000 [==============================] - 3s 52us/step - loss: 0.0919 - accuracy: 0.9736\n",
      "Epoch 20/100\n",
      "60000/60000 [==============================] - 3s 56us/step - loss: 0.0872 - accuracy: 0.9741\n",
      "Epoch 21/100\n",
      "60000/60000 [==============================] - 3s 51us/step - loss: 0.0834 - accuracy: 0.9761\n",
      "Epoch 22/100\n",
      "60000/60000 [==============================] - 3s 50us/step - loss: 0.0800 - accuracy: 0.9766\n",
      "Epoch 23/100\n",
      "60000/60000 [==============================] - 3s 50us/step - loss: 0.0780 - accuracy: 0.9777\n",
      "Epoch 24/100\n",
      "60000/60000 [==============================] - 3s 50us/step - loss: 0.0753 - accuracy: 0.9783\n",
      "Epoch 25/100\n",
      "60000/60000 [==============================] - 3s 51us/step - loss: 0.0711 - accuracy: 0.9798\n",
      "Epoch 26/100\n",
      "60000/60000 [==============================] - 3s 51us/step - loss: 0.0688 - accuracy: 0.9801\n",
      "Epoch 27/100\n",
      "60000/60000 [==============================] - 3s 51us/step - loss: 0.0673 - accuracy: 0.9803\n",
      "Epoch 28/100\n",
      "60000/60000 [==============================] - 3s 49us/step - loss: 0.0649 - accuracy: 0.9807\n",
      "Epoch 29/100\n",
      "60000/60000 [==============================] - 3s 49us/step - loss: 0.0628 - accuracy: 0.9819\n",
      "Epoch 30/100\n",
      "60000/60000 [==============================] - 3s 50us/step - loss: 0.0603 - accuracy: 0.9827\n",
      "Epoch 31/100\n",
      "60000/60000 [==============================] - 3s 50us/step - loss: 0.0593 - accuracy: 0.9827\n",
      "Epoch 32/100\n",
      "60000/60000 [==============================] - 3s 49us/step - loss: 0.0578 - accuracy: 0.9829\n",
      "Epoch 33/100\n",
      "60000/60000 [==============================] - 3s 50us/step - loss: 0.0555 - accuracy: 0.9839\n",
      "Epoch 34/100\n",
      "60000/60000 [==============================] - 3s 53us/step - loss: 0.0531 - accuracy: 0.9848\n",
      "Epoch 35/100\n",
      "60000/60000 [==============================] - 3s 52us/step - loss: 0.0520 - accuracy: 0.9848\n",
      "Epoch 36/100\n",
      "60000/60000 [==============================] - 3s 51us/step - loss: 0.0502 - accuracy: 0.9852\n",
      "Epoch 37/100\n",
      "60000/60000 [==============================] - 3s 50us/step - loss: 0.0498 - accuracy: 0.9853\n",
      "Epoch 38/100\n",
      "60000/60000 [==============================] - 3s 49us/step - loss: 0.0482 - accuracy: 0.9862\n",
      "Epoch 39/100\n",
      "60000/60000 [==============================] - 3s 53us/step - loss: 0.0455 - accuracy: 0.9870\n",
      "Epoch 40/100\n",
      "60000/60000 [==============================] - 3s 56us/step - loss: 0.0439 - accuracy: 0.9877\n",
      "Epoch 41/100\n",
      "60000/60000 [==============================] - 3s 54us/step - loss: 0.0441 - accuracy: 0.9871\n",
      "Epoch 42/100\n",
      "60000/60000 [==============================] - 3s 52us/step - loss: 0.0431 - accuracy: 0.9870\n",
      "Epoch 43/100\n",
      "60000/60000 [==============================] - 3s 51us/step - loss: 0.0420 - accuracy: 0.9879\n",
      "Epoch 44/100\n",
      "60000/60000 [==============================] - 3s 51us/step - loss: 0.0405 - accuracy: 0.9881\n",
      "Epoch 45/100\n",
      "60000/60000 [==============================] - 3s 50us/step - loss: 0.0405 - accuracy: 0.9882\n",
      "Epoch 46/100\n",
      "60000/60000 [==============================] - 3s 54us/step - loss: 0.0381 - accuracy: 0.9886\n",
      "Epoch 47/100\n",
      "60000/60000 [==============================] - 3s 50us/step - loss: 0.0385 - accuracy: 0.9887\n",
      "Epoch 48/100\n",
      "60000/60000 [==============================] - 3s 51us/step - loss: 0.0370 - accuracy: 0.9894\n",
      "Epoch 49/100\n",
      "60000/60000 [==============================] - 3s 52us/step - loss: 0.0361 - accuracy: 0.9895\n",
      "Epoch 50/100\n",
      "60000/60000 [==============================] - 3s 50us/step - loss: 0.0349 - accuracy: 0.9897\n",
      "Epoch 51/100\n",
      "60000/60000 [==============================] - 3s 50us/step - loss: 0.0341 - accuracy: 0.9903\n",
      "Epoch 52/100\n",
      "60000/60000 [==============================] - 3s 51us/step - loss: 0.0334 - accuracy: 0.9906\n",
      "Epoch 53/100\n",
      "60000/60000 [==============================] - 3s 50us/step - loss: 0.0326 - accuracy: 0.9907\n",
      "Epoch 54/100\n",
      "60000/60000 [==============================] - 3s 51us/step - loss: 0.0321 - accuracy: 0.9909\n",
      "Epoch 55/100\n",
      "60000/60000 [==============================] - 3s 49us/step - loss: 0.0310 - accuracy: 0.9912\n",
      "Epoch 56/100\n",
      "60000/60000 [==============================] - 3s 49us/step - loss: 0.0298 - accuracy: 0.9914\n",
      "Epoch 57/100\n",
      "60000/60000 [==============================] - 3s 50us/step - loss: 0.0286 - accuracy: 0.9925\n",
      "Epoch 58/100\n",
      "60000/60000 [==============================] - 3s 49us/step - loss: 0.0284 - accuracy: 0.9919\n",
      "Epoch 59/100\n",
      "60000/60000 [==============================] - 3s 50us/step - loss: 0.0278 - accuracy: 0.9922\n",
      "Epoch 60/100\n",
      "60000/60000 [==============================] - 3s 51us/step - loss: 0.0265 - accuracy: 0.9923\n",
      "Epoch 61/100\n",
      "60000/60000 [==============================] - 3s 49us/step - loss: 0.0260 - accuracy: 0.9927\n",
      "Epoch 62/100\n",
      "60000/60000 [==============================] - 3s 50us/step - loss: 0.0260 - accuracy: 0.9927\n",
      "Epoch 63/100\n",
      "60000/60000 [==============================] - 3s 50us/step - loss: 0.0251 - accuracy: 0.9930\n",
      "Epoch 64/100\n",
      "60000/60000 [==============================] - 3s 54us/step - loss: 0.0247 - accuracy: 0.9930\n",
      "Epoch 65/100\n",
      "60000/60000 [==============================] - 3s 49us/step - loss: 0.0254 - accuracy: 0.9927\n",
      "Epoch 66/100\n",
      "60000/60000 [==============================] - 3s 49us/step - loss: 0.0245 - accuracy: 0.9930\n",
      "Epoch 67/100\n",
      "60000/60000 [==============================] - 3s 51us/step - loss: 0.0234 - accuracy: 0.9937\n",
      "Epoch 68/100\n",
      "60000/60000 [==============================] - 3s 50us/step - loss: 0.0238 - accuracy: 0.9936\n",
      "Epoch 69/100\n",
      "60000/60000 [==============================] - 3s 50us/step - loss: 0.0225 - accuracy: 0.9940\n",
      "Epoch 70/100\n",
      "60000/60000 [==============================] - 3s 50us/step - loss: 0.0216 - accuracy: 0.9936\n",
      "Epoch 71/100\n",
      "60000/60000 [==============================] - 3s 49us/step - loss: 0.0217 - accuracy: 0.9940\n",
      "Epoch 72/100\n",
      "60000/60000 [==============================] - 3s 50us/step - loss: 0.0208 - accuracy: 0.9945\n",
      "Epoch 73/100\n",
      "60000/60000 [==============================] - 3s 50us/step - loss: 0.0202 - accuracy: 0.9944\n",
      "Epoch 74/100\n",
      "60000/60000 [==============================] - 3s 49us/step - loss: 0.0206 - accuracy: 0.9941\n",
      "Epoch 75/100\n",
      "60000/60000 [==============================] - 3s 50us/step - loss: 0.0208 - accuracy: 0.9943\n",
      "Epoch 76/100\n",
      "60000/60000 [==============================] - 3s 50us/step - loss: 0.0197 - accuracy: 0.9948\n",
      "Epoch 77/100\n",
      "60000/60000 [==============================] - 3s 51us/step - loss: 0.0184 - accuracy: 0.9954\n",
      "Epoch 78/100\n",
      "60000/60000 [==============================] - 3s 50us/step - loss: 0.0186 - accuracy: 0.9952\n",
      "Epoch 79/100\n",
      "60000/60000 [==============================] - 3s 51us/step - loss: 0.0183 - accuracy: 0.9950\n",
      "Epoch 80/100\n",
      "60000/60000 [==============================] - 3s 51us/step - loss: 0.0182 - accuracy: 0.9951\n",
      "Epoch 81/100\n",
      "60000/60000 [==============================] - 3s 50us/step - loss: 0.0183 - accuracy: 0.9950\n",
      "Epoch 82/100\n",
      "60000/60000 [==============================] - 3s 50us/step - loss: 0.0169 - accuracy: 0.9956\n",
      "Epoch 83/100\n",
      "60000/60000 [==============================] - 3s 51us/step - loss: 0.0173 - accuracy: 0.9956\n",
      "Epoch 84/100\n",
      "60000/60000 [==============================] - 3s 50us/step - loss: 0.0174 - accuracy: 0.9951\n",
      "Epoch 85/100\n",
      "60000/60000 [==============================] - 3s 49us/step - loss: 0.0161 - accuracy: 0.9960\n",
      "Epoch 86/100\n",
      "60000/60000 [==============================] - 3s 52us/step - loss: 0.0157 - accuracy: 0.9962\n",
      "Epoch 87/100\n",
      "60000/60000 [==============================] - 3s 50us/step - loss: 0.0156 - accuracy: 0.9959\n",
      "Epoch 88/100\n",
      "60000/60000 [==============================] - 3s 49us/step - loss: 0.0155 - accuracy: 0.9962\n",
      "Epoch 89/100\n",
      "60000/60000 [==============================] - 3s 50us/step - loss: 0.0155 - accuracy: 0.9958\n",
      "Epoch 90/100\n",
      "60000/60000 [==============================] - 3s 49us/step - loss: 0.0144 - accuracy: 0.9963\n",
      "Epoch 91/100\n",
      "60000/60000 [==============================] - 3s 52us/step - loss: 0.0146 - accuracy: 0.9965\n",
      "Epoch 92/100\n",
      "60000/60000 [==============================] - 3s 49us/step - loss: 0.0143 - accuracy: 0.9963\n",
      "Epoch 93/100\n",
      "60000/60000 [==============================] - 3s 52us/step - loss: 0.0148 - accuracy: 0.9963\n",
      "Epoch 94/100\n",
      "60000/60000 [==============================] - 3s 50us/step - loss: 0.0143 - accuracy: 0.9964\n",
      "Epoch 95/100\n",
      "60000/60000 [==============================] - 3s 49us/step - loss: 0.0141 - accuracy: 0.9966\n",
      "Epoch 96/100\n",
      "60000/60000 [==============================] - 3s 51us/step - loss: 0.0133 - accuracy: 0.9967\n",
      "Epoch 97/100\n",
      "60000/60000 [==============================] - 3s 51us/step - loss: 0.0130 - accuracy: 0.9966\n",
      "Epoch 98/100\n",
      "60000/60000 [==============================] - 3s 52us/step - loss: 0.0138 - accuracy: 0.9966\n",
      "Epoch 99/100\n",
      "60000/60000 [==============================] - 3s 52us/step - loss: 0.0126 - accuracy: 0.9969\n",
      "Epoch 100/100\n",
      "60000/60000 [==============================] - 3s 51us/step - loss: 0.0125 - accuracy: 0.9968\n"
     ]
    },
    {
     "data": {
      "image/png": "[encoded data removed]",
      "text/plain": [
       "<Figure size 648x648 with 1 Axes>"
      ]
     },
     "metadata": {
      "needs_background": "light",
      "tags": []
     },
     "output_type": "display_data"
    }
   ],
   "source": [
    "history = model.fit(X_train, Y_train,\n",
    "          batch_size=50, epochs=100,\n",
    "          verbose=1)\n",
    "plt.plot(history.history['accuracy'])\n",
    "plt.title('Model accuracy')\n",
    "plt.ylabel('Accuracy')\n",
    "plt.xlabel('Epoch')\n",
    "plt.show()"
   ]
  },
  {
   "cell_type": "markdown",
   "metadata": {
    "colab_type": "text",
    "id": "OGtcOM-zvLZb"
   },
   "source": [
    "## Evaluate Model's Accuracy on Test Data"
   ]
  },
  {
   "cell_type": "code",
   "execution_count": 145,
   "metadata": {
    "colab": {
     "base_uri": "https://localhost:8080/",
     "height": 618
    },
    "colab_type": "code",
    "executionInfo": {
     "elapsed": 3396,
     "status": "ok",
     "timestamp": 1587065584154,
     "user": {
      "displayName": "Mohamad Mahdi Yadegar",
      "photoUrl": "https://lh3.googleusercontent.com/a-/AOh14GjSB-SOBZ3Cf7Vm6TFT8awQg0XuV1mnbSCowsIR=s64",
      "userId": "06691288538219578255"
     },
     "user_tz": -270
    },
    "id": "0SScgmM0vLZb",
    "outputId": "a9fdc891-c298-454d-c5ae-186f152dee7d"
   },
   "outputs": [
    {
     "data": {
      "image/png": "[encoded data removed]",
      "text/plain": [
       "<Figure size 648x648 with 1 Axes>"
      ]
     },
     "metadata": {
      "needs_background": "light",
      "tags": []
     },
     "output_type": "display_data"
    },
    {
     "name": "stdout",
     "output_type": "stream",
     "text": [
      "10000/10000 [==============================] - 1s 53us/step\n",
      "Test loss: 0.055007246428223154\n",
      "Test accuracy: 0.983299970626831\n"
     ]
    }
   ],
   "source": [
    "plt.plot(history.history['loss'])\n",
    "plt.title('Model Loss')\n",
    "plt.ylabel('Loss')\n",
    "plt.xlabel('Epoch')\n",
    "plt.show()\n",
    "score = model.evaluate(X_test, Y_test)\n",
    "print('Test loss:', score[0])\n",
    "print('Test accuracy:', score[1])"
   ]
  }
 ],
 "metadata": {
  "accelerator": "GPU",
  "colab": {
   "collapsed_sections": [
    "evM9EIW8vLZo",
    "Bhya-k8jvLaD",
    "komyT5PfvLah"
   ],
   "name": "MNIST in Keras dropout.ipynb",
   "provenance": [
    {
     "file_id": "https://github.com/AviatorMoser/keras-mnist-tutorial/blob/master/MNIST%20in%20Keras.ipynb",
     "timestamp": 1586013108660
    }
   ],
   "toc_visible": true
  },
  "kernelspec": {
   "display_name": "Python 3",
   "language": "python",
   "name": "python3"
  },
  "language_info": {
   "codemirror_mode": {
    "name": "ipython",
    "version": 3
   },
   "file_extension": ".py",
   "mimetype": "text/x-python",
   "name": "python",
   "nbconvert_exporter": "python",
   "pygments_lexer": "ipython3",
   "version": "3.6.3"
  }
 },
 "nbformat": 4,
 "nbformat_minor": 1
}
