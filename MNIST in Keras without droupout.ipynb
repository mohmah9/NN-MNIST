{
 "cells": [
  {
   "cell_type": "code",
   "execution_count": 0,
   "metadata": {
    "colab": {},
    "colab_type": "code",
    "id": "FHseLRJxvLYO"
   },
   "outputs": [],
   "source": [
    "%matplotlib inline"
   ]
  },
  {
   "cell_type": "markdown",
   "metadata": {
    "colab_type": "text",
    "id": "vLZw0YS8vLYY"
   },
   "source": [
    "## Importing needed modules\n"
   ]
  },
  {
   "cell_type": "code",
   "execution_count": 2,
   "metadata": {
    "colab": {
     "base_uri": "https://localhost:8080/",
     "height": 50
    },
    "colab_type": "code",
    "executionInfo": {
     "elapsed": 6665,
     "status": "ok",
     "timestamp": 1587061615319,
     "user": {
      "displayName": "Mohamad Mahdi Yadegar",
      "photoUrl": "https://lh3.googleusercontent.com/a-/AOh14GjSB-SOBZ3Cf7Vm6TFT8awQg0XuV1mnbSCowsIR=s64",
      "userId": "06691288538219578255"
     },
     "user_tz": -270
    },
    "id": "A_ORp8cbvLYY",
    "outputId": "364b45b9-ab40-4461-fccb-4dcc5d577248"
   },
   "outputs": [
    {
     "name": "stdout",
     "output_type": "stream",
     "text": [
      "TensorFlow 1.x selected.\n"
     ]
    },
    {
     "name": "stderr",
     "output_type": "stream",
     "text": [
      "Using TensorFlow backend.\n"
     ]
    }
   ],
   "source": [
    "%tensorflow_version 1.x\n",
    "import numpy as np                   \n",
    "import matplotlib.pyplot as plt      \n",
    "import random                        \n",
    "from keras.datasets import mnist     \n",
    "from keras.models import Sequential  \n",
    "from keras.layers.core import Dense, Dropout, Activation \n",
    "from keras.utils import np_utils                         "
   ]
  },
  {
   "cell_type": "markdown",
   "metadata": {
    "colab_type": "text",
    "id": "KPo-NWCzvLYc"
   },
   "source": [
    "## Loading Training Data\n"
   ]
  },
  {
   "cell_type": "code",
   "execution_count": 3,
   "metadata": {
    "colab": {
     "base_uri": "https://localhost:8080/",
     "height": 118
    },
    "colab_type": "code",
    "executionInfo": {
     "elapsed": 2958,
     "status": "ok",
     "timestamp": 1587061619028,
     "user": {
      "displayName": "Mohamad Mahdi Yadegar",
      "photoUrl": "https://lh3.googleusercontent.com/a-/AOh14GjSB-SOBZ3Cf7Vm6TFT8awQg0XuV1mnbSCowsIR=s64",
      "userId": "06691288538219578255"
     },
     "user_tz": -270
    },
    "id": "W6_QRupuvLYc",
    "outputId": "e0b3f1e9-fa75-4764-b7cb-523f6c922806"
   },
   "outputs": [
    {
     "name": "stdout",
     "output_type": "stream",
     "text": [
      "Downloading data from https://s3.amazonaws.com/img-datasets/mnist.npz\n",
      "11493376/11490434 [==============================] - 1s 0us/step\n",
      "X_train shape (60000, 28, 28)\n",
      "y_train shape (60000,)\n",
      "X_test shape (10000, 28, 28)\n",
      "y_test shape (10000,)\n"
     ]
    }
   ],
   "source": [
    "(X_train, y_train), (X_test, y_test) = mnist.load_data()\n",
    "\n",
    "print(\"X_train shape\", X_train.shape)\n",
    "print(\"y_train shape\", y_train.shape)\n",
    "print(\"X_test shape\", X_test.shape)\n",
    "print(\"y_test shape\", y_test.shape)"
   ]
  },
  {
   "cell_type": "markdown",
   "metadata": {},
   "source": [
    "## Normalization"
   ]
  },
  {
   "cell_type": "code",
   "execution_count": 7,
   "metadata": {
    "colab": {
     "base_uri": "https://localhost:8080/",
     "height": 50
    },
    "colab_type": "code",
    "executionInfo": {
     "elapsed": 1268,
     "status": "ok",
     "timestamp": 1587061659764,
     "user": {
      "displayName": "Mohamad Mahdi Yadegar",
      "photoUrl": "https://lh3.googleusercontent.com/a-/AOh14GjSB-SOBZ3Cf7Vm6TFT8awQg0XuV1mnbSCowsIR=s64",
      "userId": "06691288538219578255"
     },
     "user_tz": -270
    },
    "id": "zVnWrIsFvLYu",
    "outputId": "aab4c49b-644d-4b92-e815-7ce63edd0f56"
   },
   "outputs": [
    {
     "name": "stdout",
     "output_type": "stream",
     "text": [
      "Training matrix shape (60000, 784)\n",
      "Testing matrix shape (10000, 784)\n"
     ]
    }
   ],
   "source": [
    "X_train = X_train.reshape(60000, 784) # reshape 60,000 28 x 28 matrices into 60,000 784-length vectors.\n",
    "X_test = X_test.reshape(10000, 784)   # reshape 10,000 28 x 28 matrices into 10,000 784-length vectors.\n",
    "\n",
    "X_train = X_train.astype('float32')   \n",
    "X_test = X_test.astype('float32')\n",
    "\n",
    "X_train /= 255                        \n",
    "X_test /= 255\n",
    "\n",
    "print(\"Training matrix shape\", X_train.shape)\n",
    "print(\"Testing matrix shape\", X_test.shape)"
   ]
  },
  {
   "cell_type": "markdown",
   "metadata": {
    "colab_type": "text",
    "id": "rGR1_aF7vLYx"
   },
   "source": [
    "## One-hot"
   ]
  },
  {
   "cell_type": "code",
   "execution_count": 0,
   "metadata": {
    "colab": {},
    "colab_type": "code",
    "id": "yudxXCHSvLYy"
   },
   "outputs": [],
   "source": [
    "nb_classes = 10\n",
    "\n",
    "Y_train = np_utils.to_categorical(y_train, nb_classes)\n",
    "Y_test = np_utils.to_categorical(y_test, nb_classes)"
   ]
  },
  {
   "cell_type": "code",
   "execution_count": 0,
   "metadata": {
    "colab": {},
    "colab_type": "code",
    "id": "r1iog78kvLY2"
   },
   "outputs": [],
   "source": [
    "model = Sequential()"
   ]
  },
  {
   "cell_type": "markdown",
   "metadata": {
    "colab_type": "text",
    "id": "EOvNo66PvLY7"
   },
   "source": [
    "## The first hidden layer"
   ]
  },
  {
   "cell_type": "code",
   "execution_count": 0,
   "metadata": {
    "colab": {},
    "colab_type": "code",
    "id": "q_Sh5DdxvLY_"
   },
   "outputs": [],
   "source": [
    "model.add(Dense(512, input_shape=(784,))) "
   ]
  },
  {
   "cell_type": "code",
   "execution_count": 0,
   "metadata": {
    "colab": {},
    "colab_type": "code",
    "id": "3bWCtJLqvLZD"
   },
   "outputs": [],
   "source": [
    "model.add(Activation('relu'))"
   ]
  },
  {
   "cell_type": "markdown",
   "metadata": {
    "colab_type": "text",
    "id": "3TRBhu2AvLZI"
   },
   "source": [
    "## Adding the second hidden layer"
   ]
  },
  {
   "cell_type": "code",
   "execution_count": 0,
   "metadata": {
    "colab": {},
    "colab_type": "code",
    "id": "1XtNOukjvLZJ"
   },
   "outputs": [],
   "source": [
    "model.add(Dense(512))\n",
    "model.add(Activation('relu'))"
   ]
  },
  {
   "cell_type": "markdown",
   "metadata": {
    "colab_type": "text",
    "id": "hbfbEJguvLZL"
   },
   "source": [
    "## The Final Output Layer"
   ]
  },
  {
   "cell_type": "code",
   "execution_count": 0,
   "metadata": {
    "colab": {},
    "colab_type": "code",
    "id": "lt9krT-lvLZM"
   },
   "outputs": [],
   "source": [
    "model.add(Dense(10))"
   ]
  },
  {
   "cell_type": "code",
   "execution_count": 0,
   "metadata": {
    "colab": {},
    "colab_type": "code",
    "id": "Hmn2RiwWvLZO"
   },
   "outputs": [],
   "source": [
    "model.add(Activation('softmax'))"
   ]
  },
  {
   "cell_type": "code",
   "execution_count": 61,
   "metadata": {
    "colab": {
     "base_uri": "https://localhost:8080/",
     "height": 353
    },
    "colab_type": "code",
    "executionInfo": {
     "elapsed": 1422,
     "status": "ok",
     "timestamp": 1587064035597,
     "user": {
      "displayName": "Mohamad Mahdi Yadegar",
      "photoUrl": "https://lh3.googleusercontent.com/a-/AOh14GjSB-SOBZ3Cf7Vm6TFT8awQg0XuV1mnbSCowsIR=s64",
      "userId": "06691288538219578255"
     },
     "user_tz": -270
    },
    "id": "etyC0pWtvLZR",
    "outputId": "ae42f0dd-a41f-4430-85ef-ddff4d76b105"
   },
   "outputs": [
    {
     "name": "stdout",
     "output_type": "stream",
     "text": [
      "Model: \"sequential_6\"\n",
      "_________________________________________________________________\n",
      "Layer (type)                 Output Shape              Param #   \n",
      "=================================================================\n",
      "dense_15 (Dense)             (None, 512)               401920    \n",
      "_________________________________________________________________\n",
      "activation_15 (Activation)   (None, 512)               0         \n",
      "_________________________________________________________________\n",
      "dense_16 (Dense)             (None, 512)               262656    \n",
      "_________________________________________________________________\n",
      "activation_16 (Activation)   (None, 512)               0         \n",
      "_________________________________________________________________\n",
      "dense_17 (Dense)             (None, 10)                5130      \n",
      "_________________________________________________________________\n",
      "activation_17 (Activation)   (None, 10)                0         \n",
      "=================================================================\n",
      "Total params: 669,706\n",
      "Trainable params: 669,706\n",
      "Non-trainable params: 0\n",
      "_________________________________________________________________\n"
     ]
    }
   ],
   "source": [
    "model.summary()"
   ]
  },
  {
   "cell_type": "markdown",
   "metadata": {},
   "source": [
    "## Compiling"
   ]
  },
  {
   "cell_type": "code",
   "execution_count": 0,
   "metadata": {
    "colab": {},
    "colab_type": "code",
    "id": "vNMqC2AHvLZW"
   },
   "outputs": [],
   "source": [
    "# Let's use the Adam optimizer for learning\n",
    "model.compile(loss='categorical_crossentropy', optimizer='sgd', metrics=['accuracy'])"
   ]
  },
  {
   "cell_type": "markdown",
   "metadata": {
    "colab_type": "text",
    "id": "j94FZUrRvLZY"
   },
   "source": [
    "## Training the model"
   ]
  },
  {
   "cell_type": "code",
   "execution_count": 63,
   "metadata": {
    "colab": {
     "base_uri": "https://localhost:8080/",
     "height": 1000
    },
    "colab_type": "code",
    "executionInfo": {
     "elapsed": 281896,
     "status": "ok",
     "timestamp": 1587064326101,
     "user": {
      "displayName": "Mohamad Mahdi Yadegar",
      "photoUrl": "https://lh3.googleusercontent.com/a-/AOh14GjSB-SOBZ3Cf7Vm6TFT8awQg0XuV1mnbSCowsIR=s64",
      "userId": "06691288538219578255"
     },
     "user_tz": -270
    },
    "id": "D0BT9AKSvLZZ",
    "outputId": "bb37463c-8d69-4563-d0f1-51f63a230674"
   },
   "outputs": [
    {
     "name": "stdout",
     "output_type": "stream",
     "text": [
      "Epoch 1/100\n",
      "60000/60000 [==============================] - 3s 48us/step - loss: 0.6933 - accuracy: 0.8381\n",
      "Epoch 2/100\n",
      "60000/60000 [==============================] - 3s 45us/step - loss: 0.3106 - accuracy: 0.9123\n",
      "Epoch 3/100\n",
      "60000/60000 [==============================] - 3s 49us/step - loss: 0.2585 - accuracy: 0.9262\n",
      "Epoch 4/100\n",
      "60000/60000 [==============================] - 3s 46us/step - loss: 0.2258 - accuracy: 0.9359\n",
      "Epoch 5/100\n",
      "60000/60000 [==============================] - 3s 46us/step - loss: 0.2012 - accuracy: 0.9425\n",
      "Epoch 6/100\n",
      "60000/60000 [==============================] - 3s 45us/step - loss: 0.1814 - accuracy: 0.9481\n",
      "Epoch 7/100\n",
      "60000/60000 [==============================] - 3s 46us/step - loss: 0.1654 - accuracy: 0.9531\n",
      "Epoch 8/100\n",
      "60000/60000 [==============================] - 3s 49us/step - loss: 0.1511 - accuracy: 0.9572\n",
      "Epoch 9/100\n",
      "60000/60000 [==============================] - 3s 48us/step - loss: 0.1393 - accuracy: 0.9613\n",
      "Epoch 10/100\n",
      "60000/60000 [==============================] - 3s 47us/step - loss: 0.1292 - accuracy: 0.9636\n",
      "Epoch 11/100\n",
      "60000/60000 [==============================] - 3s 46us/step - loss: 0.1199 - accuracy: 0.9662\n",
      "Epoch 12/100\n",
      "60000/60000 [==============================] - 3s 46us/step - loss: 0.1117 - accuracy: 0.9685\n",
      "Epoch 13/100\n",
      "60000/60000 [==============================] - 3s 48us/step - loss: 0.1047 - accuracy: 0.9704\n",
      "Epoch 14/100\n",
      "60000/60000 [==============================] - 3s 46us/step - loss: 0.0984 - accuracy: 0.9726\n",
      "Epoch 15/100\n",
      "60000/60000 [==============================] - 3s 46us/step - loss: 0.0924 - accuracy: 0.9742\n",
      "Epoch 16/100\n",
      "60000/60000 [==============================] - 3s 46us/step - loss: 0.0871 - accuracy: 0.9759\n",
      "Epoch 17/100\n",
      "60000/60000 [==============================] - 3s 46us/step - loss: 0.0823 - accuracy: 0.9769\n",
      "Epoch 18/100\n",
      "60000/60000 [==============================] - 3s 47us/step - loss: 0.0779 - accuracy: 0.9783\n",
      "Epoch 19/100\n",
      "60000/60000 [==============================] - 3s 47us/step - loss: 0.0737 - accuracy: 0.9799\n",
      "Epoch 20/100\n",
      "60000/60000 [==============================] - 3s 47us/step - loss: 0.0699 - accuracy: 0.9809\n",
      "Epoch 21/100\n",
      "60000/60000 [==============================] - 3s 46us/step - loss: 0.0664 - accuracy: 0.9821\n",
      "Epoch 22/100\n",
      "60000/60000 [==============================] - 3s 46us/step - loss: 0.0634 - accuracy: 0.9828\n",
      "Epoch 23/100\n",
      "60000/60000 [==============================] - 3s 45us/step - loss: 0.0602 - accuracy: 0.9837\n",
      "Epoch 24/100\n",
      "60000/60000 [==============================] - 3s 47us/step - loss: 0.0575 - accuracy: 0.9848\n",
      "Epoch 25/100\n",
      "60000/60000 [==============================] - 3s 48us/step - loss: 0.0547 - accuracy: 0.9855\n",
      "Epoch 26/100\n",
      "60000/60000 [==============================] - 3s 47us/step - loss: 0.0521 - accuracy: 0.9867\n",
      "Epoch 27/100\n",
      "60000/60000 [==============================] - 3s 47us/step - loss: 0.0500 - accuracy: 0.9870\n",
      "Epoch 28/100\n",
      "60000/60000 [==============================] - 3s 45us/step - loss: 0.0478 - accuracy: 0.9877\n",
      "Epoch 29/100\n",
      "60000/60000 [==============================] - 3s 46us/step - loss: 0.0456 - accuracy: 0.9883\n",
      "Epoch 30/100\n",
      "60000/60000 [==============================] - 3s 46us/step - loss: 0.0436 - accuracy: 0.9891\n",
      "Epoch 31/100\n",
      "60000/60000 [==============================] - 3s 48us/step - loss: 0.0420 - accuracy: 0.9895\n",
      "Epoch 32/100\n",
      "60000/60000 [==============================] - 3s 50us/step - loss: 0.0399 - accuracy: 0.9901\n",
      "Epoch 33/100\n",
      "60000/60000 [==============================] - 3s 47us/step - loss: 0.0385 - accuracy: 0.9905\n",
      "Epoch 34/100\n",
      "60000/60000 [==============================] - 3s 47us/step - loss: 0.0367 - accuracy: 0.9908\n",
      "Epoch 35/100\n",
      "60000/60000 [==============================] - 3s 47us/step - loss: 0.0352 - accuracy: 0.9914\n",
      "Epoch 36/100\n",
      "60000/60000 [==============================] - 3s 49us/step - loss: 0.0339 - accuracy: 0.9919\n",
      "Epoch 37/100\n",
      "60000/60000 [==============================] - 3s 47us/step - loss: 0.0324 - accuracy: 0.9926\n",
      "Epoch 38/100\n",
      "60000/60000 [==============================] - 3s 47us/step - loss: 0.0312 - accuracy: 0.9927\n",
      "Epoch 39/100\n",
      "60000/60000 [==============================] - 3s 46us/step - loss: 0.0299 - accuracy: 0.9931\n",
      "Epoch 40/100\n",
      "60000/60000 [==============================] - 3s 46us/step - loss: 0.0285 - accuracy: 0.9935\n",
      "Epoch 41/100\n",
      "60000/60000 [==============================] - 3s 46us/step - loss: 0.0276 - accuracy: 0.9938\n",
      "Epoch 42/100\n",
      "60000/60000 [==============================] - 3s 46us/step - loss: 0.0265 - accuracy: 0.9942\n",
      "Epoch 43/100\n",
      "60000/60000 [==============================] - 3s 47us/step - loss: 0.0253 - accuracy: 0.9947\n",
      "Epoch 44/100\n",
      "60000/60000 [==============================] - 3s 45us/step - loss: 0.0245 - accuracy: 0.9951\n",
      "Epoch 45/100\n",
      "60000/60000 [==============================] - 3s 47us/step - loss: 0.0235 - accuracy: 0.9953\n",
      "Epoch 46/100\n",
      "60000/60000 [==============================] - 3s 46us/step - loss: 0.0226 - accuracy: 0.9956\n",
      "Epoch 47/100\n",
      "60000/60000 [==============================] - 3s 48us/step - loss: 0.0217 - accuracy: 0.9955\n",
      "Epoch 48/100\n",
      "60000/60000 [==============================] - 3s 46us/step - loss: 0.0209 - accuracy: 0.9961\n",
      "Epoch 49/100\n",
      "60000/60000 [==============================] - 3s 47us/step - loss: 0.0202 - accuracy: 0.9963\n",
      "Epoch 50/100\n",
      "60000/60000 [==============================] - 3s 46us/step - loss: 0.0194 - accuracy: 0.9966\n",
      "Epoch 51/100\n",
      "60000/60000 [==============================] - 3s 47us/step - loss: 0.0186 - accuracy: 0.9970\n",
      "Epoch 52/100\n",
      "60000/60000 [==============================] - 3s 47us/step - loss: 0.0180 - accuracy: 0.9969\n",
      "Epoch 53/100\n",
      "60000/60000 [==============================] - 3s 46us/step - loss: 0.0174 - accuracy: 0.9971\n",
      "Epoch 54/100\n",
      "60000/60000 [==============================] - 3s 46us/step - loss: 0.0168 - accuracy: 0.9972\n",
      "Epoch 55/100\n",
      "60000/60000 [==============================] - 3s 45us/step - loss: 0.0162 - accuracy: 0.9975\n",
      "Epoch 56/100\n",
      "60000/60000 [==============================] - 3s 49us/step - loss: 0.0156 - accuracy: 0.9976\n",
      "Epoch 57/100\n",
      "60000/60000 [==============================] - 3s 46us/step - loss: 0.0151 - accuracy: 0.9980\n",
      "Epoch 58/100\n",
      "60000/60000 [==============================] - 3s 46us/step - loss: 0.0145 - accuracy: 0.9980\n",
      "Epoch 59/100\n",
      "60000/60000 [==============================] - 3s 49us/step - loss: 0.0140 - accuracy: 0.9981\n",
      "Epoch 60/100\n",
      "60000/60000 [==============================] - 3s 46us/step - loss: 0.0136 - accuracy: 0.9983\n",
      "Epoch 61/100\n",
      "60000/60000 [==============================] - 3s 47us/step - loss: 0.0131 - accuracy: 0.9984\n",
      "Epoch 62/100\n",
      "60000/60000 [==============================] - 3s 48us/step - loss: 0.0126 - accuracy: 0.9987\n",
      "Epoch 63/100\n",
      "60000/60000 [==============================] - 3s 48us/step - loss: 0.0123 - accuracy: 0.9987\n",
      "Epoch 64/100\n",
      "60000/60000 [==============================] - 3s 48us/step - loss: 0.0118 - accuracy: 0.9988\n",
      "Epoch 65/100\n",
      "60000/60000 [==============================] - 3s 48us/step - loss: 0.0114 - accuracy: 0.9989\n",
      "Epoch 66/100\n",
      "60000/60000 [==============================] - 3s 49us/step - loss: 0.0112 - accuracy: 0.9989\n",
      "Epoch 67/100\n",
      "60000/60000 [==============================] - 3s 49us/step - loss: 0.0108 - accuracy: 0.9988\n",
      "Epoch 68/100\n",
      "60000/60000 [==============================] - 3s 46us/step - loss: 0.0104 - accuracy: 0.9991\n",
      "Epoch 69/100\n",
      "60000/60000 [==============================] - 3s 46us/step - loss: 0.0101 - accuracy: 0.9991\n",
      "Epoch 70/100\n",
      "60000/60000 [==============================] - 3s 47us/step - loss: 0.0098 - accuracy: 0.9993\n",
      "Epoch 71/100\n",
      "60000/60000 [==============================] - 3s 46us/step - loss: 0.0095 - accuracy: 0.9992\n",
      "Epoch 72/100\n",
      "60000/60000 [==============================] - 3s 47us/step - loss: 0.0092 - accuracy: 0.9993\n",
      "Epoch 73/100\n",
      "60000/60000 [==============================] - 3s 47us/step - loss: 0.0089 - accuracy: 0.9994\n",
      "Epoch 74/100\n",
      "60000/60000 [==============================] - 3s 47us/step - loss: 0.0087 - accuracy: 0.9993\n",
      "Epoch 75/100\n",
      "60000/60000 [==============================] - 3s 47us/step - loss: 0.0084 - accuracy: 0.9994\n",
      "Epoch 76/100\n",
      "60000/60000 [==============================] - 3s 46us/step - loss: 0.0082 - accuracy: 0.9995\n",
      "Epoch 77/100\n",
      "60000/60000 [==============================] - 3s 46us/step - loss: 0.0080 - accuracy: 0.9994\n",
      "Epoch 78/100\n",
      "60000/60000 [==============================] - 3s 45us/step - loss: 0.0077 - accuracy: 0.9995\n",
      "Epoch 79/100\n",
      "60000/60000 [==============================] - 3s 46us/step - loss: 0.0075 - accuracy: 0.9995\n",
      "Epoch 80/100\n",
      "60000/60000 [==============================] - 3s 46us/step - loss: 0.0073 - accuracy: 0.9995\n",
      "Epoch 81/100\n",
      "60000/60000 [==============================] - 3s 45us/step - loss: 0.0071 - accuracy: 0.9996\n",
      "Epoch 82/100\n",
      "60000/60000 [==============================] - 3s 46us/step - loss: 0.0069 - accuracy: 0.9996\n",
      "Epoch 83/100\n",
      "60000/60000 [==============================] - 3s 46us/step - loss: 0.0067 - accuracy: 0.9996\n",
      "Epoch 84/100\n",
      "60000/60000 [==============================] - 3s 47us/step - loss: 0.0065 - accuracy: 0.9996\n",
      "Epoch 85/100\n",
      "60000/60000 [==============================] - 3s 45us/step - loss: 0.0063 - accuracy: 0.9996\n",
      "Epoch 86/100\n",
      "60000/60000 [==============================] - 3s 47us/step - loss: 0.0062 - accuracy: 0.9997\n",
      "Epoch 87/100\n",
      "60000/60000 [==============================] - 3s 48us/step - loss: 0.0060 - accuracy: 0.9997\n",
      "Epoch 88/100\n",
      "60000/60000 [==============================] - 3s 46us/step - loss: 0.0059 - accuracy: 0.9997\n",
      "Epoch 89/100\n",
      "60000/60000 [==============================] - 3s 47us/step - loss: 0.0057 - accuracy: 0.9997\n",
      "Epoch 90/100\n",
      "60000/60000 [==============================] - 3s 46us/step - loss: 0.0056 - accuracy: 0.9997\n",
      "Epoch 91/100\n",
      "60000/60000 [==============================] - 3s 47us/step - loss: 0.0054 - accuracy: 0.9997\n",
      "Epoch 92/100\n",
      "60000/60000 [==============================] - 3s 46us/step - loss: 0.0053 - accuracy: 0.9997\n",
      "Epoch 93/100\n",
      "60000/60000 [==============================] - 3s 45us/step - loss: 0.0052 - accuracy: 0.9998\n",
      "Epoch 94/100\n",
      "60000/60000 [==============================] - 3s 47us/step - loss: 0.0050 - accuracy: 0.9998\n",
      "Epoch 95/100\n",
      "60000/60000 [==============================] - 3s 47us/step - loss: 0.0049 - accuracy: 0.9998\n",
      "Epoch 96/100\n",
      "60000/60000 [==============================] - 3s 47us/step - loss: 0.0048 - accuracy: 0.9998\n",
      "Epoch 97/100\n",
      "60000/60000 [==============================] - 3s 46us/step - loss: 0.0047 - accuracy: 0.9998\n",
      "Epoch 98/100\n",
      "60000/60000 [==============================] - 3s 46us/step - loss: 0.0046 - accuracy: 0.9998\n",
      "Epoch 99/100\n",
      "60000/60000 [==============================] - 3s 46us/step - loss: 0.0045 - accuracy: 0.9999\n",
      "Epoch 100/100\n",
      "60000/60000 [==============================] - 3s 48us/step - loss: 0.0044 - accuracy: 0.9999\n"
     ]
    },
    {
     "data": {
      "image/png": "[encoded data removed]",
      "text/plain": [
       "<Figure size 648x648 with 1 Axes>"
      ]
     },
     "metadata": {
      "needs_background": "light",
      "tags": []
     },
     "output_type": "display_data"
    }
   ],
   "source": [
    "history = model.fit(X_train, Y_train,\n",
    "          batch_size=50, epochs=100,\n",
    "          verbose=1)\n",
    "plt.plot(history.history['accuracy'])\n",
    "plt.title('Model accuracy')\n",
    "plt.ylabel('Accuracy')\n",
    "plt.xlabel('Epoch')\n",
    "plt.show()"
   ]
  },
  {
   "cell_type": "markdown",
   "metadata": {
    "colab_type": "text",
    "id": "OGtcOM-zvLZb"
   },
   "source": [
    "## Evaluate Model's Accuracy on Test Data"
   ]
  },
  {
   "cell_type": "code",
   "execution_count": 67,
   "metadata": {
    "colab": {
     "base_uri": "https://localhost:8080/",
     "height": 618
    },
    "colab_type": "code",
    "executionInfo": {
     "elapsed": 2467,
     "status": "ok",
     "timestamp": 1587065574743,
     "user": {
      "displayName": "Mohamad Mahdi Yadegar",
      "photoUrl": "https://lh3.googleusercontent.com/a-/AOh14GjSB-SOBZ3Cf7Vm6TFT8awQg0XuV1mnbSCowsIR=s64",
      "userId": "06691288538219578255"
     },
     "user_tz": -270
    },
    "id": "0SScgmM0vLZb",
    "outputId": "cdbdd799-f451-4a61-b3d9-bfcc792ec0f4"
   },
   "outputs": [
    {
     "data": {
      "image/png": "[encoded data removed]",
      "text/plain": [
       "<Figure size 648x648 with 1 Axes>"
      ]
     },
     "metadata": {
      "needs_background": "light",
      "tags": []
     },
     "output_type": "display_data"
    },
    {
     "name": "stdout",
     "output_type": "stream",
     "text": [
      "10000/10000 [==============================] - 0s 49us/step\n",
      "Test loss: 0.061990225095674395\n",
      "Test accuracy: 0.9822999835014343\n"
     ]
    }
   ],
   "source": [
    "plt.plot(history.history['loss'])\n",
    "plt.title('Model Loss')\n",
    "plt.ylabel('Loss')\n",
    "plt.xlabel('Epoch')\n",
    "plt.show()\n",
    "score = model.evaluate(X_test, Y_test)\n",
    "print('Test loss:', score[0])\n",
    "print('Test accuracy:', score[1])"
   ]
  }
 ],
 "metadata": {
  "accelerator": "GPU",
  "colab": {
   "collapsed_sections": [
    "EOvNo66PvLY7",
    "3TRBhu2AvLZI",
    "hbfbEJguvLZL",
    "l8lEaVCKvLZT",
    "j94FZUrRvLZY",
    "OGtcOM-zvLZb",
    "gQo2YpgZvLZd",
    "evM9EIW8vLZo",
    "Bhya-k8jvLaD",
    "komyT5PfvLah"
   ],
   "name": "MNIST in Keras without droupout.ipynb",
   "provenance": [
    {
     "file_id": "https://github.com/AviatorMoser/keras-mnist-tutorial/blob/master/MNIST%20in%20Keras.ipynb",
     "timestamp": 1586013108660
    }
   ],
   "toc_visible": true
  },
  "kernelspec": {
   "display_name": "Python 3",
   "language": "python",
   "name": "python3"
  },
  "language_info": {
   "codemirror_mode": {
    "name": "ipython",
    "version": 3
   },
   "file_extension": ".py",
   "mimetype": "text/x-python",
   "name": "python",
   "nbconvert_exporter": "python",
   "pygments_lexer": "ipython3",
   "version": "3.6.3"
  }
 },
 "nbformat": 4,
 "nbformat_minor": 1
}
